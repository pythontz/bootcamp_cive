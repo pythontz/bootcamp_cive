{
 "cells": [
  {
   "cell_type": "markdown",
   "metadata": {},
   "source": [
    "# 1. Pandas library "
   ]
  },
  {
   "cell_type": "markdown",
   "metadata": {},
   "source": [
    "To use Panda first load the panda library"
   ]
  },
  {
   "cell_type": "code",
   "execution_count": 2,
   "metadata": {
    "collapsed": false
   },
   "outputs": [],
   "source": [
    "import numpy as np\n",
    "import pandas as pd"
   ]
  },
  {
   "cell_type": "markdown",
   "metadata": {},
   "source": [
    "# 2. Panda Data Structures"
   ]
  },
  {
   "cell_type": "markdown",
   "metadata": {},
   "source": [
    "Panda have three fundamental Pdata structures: the **Series**, **DataFrame**, and **Index**."
   ]
  },
  {
   "cell_type": "markdown",
   "metadata": {},
   "source": [
    "## 2.1 Pandas Series\n",
    "\n",
    "A pandas Series is a one-dimensional array of indexed data. It can be created from a list or array as follows:"
   ]
  },
  {
   "cell_type": "markdown",
   "metadata": {},
   "source": [
    "A series can be constructed with the *pd.Series* constructor (passing a list or array of values) or from a DataFrame, by extracting one of its columns."
   ]
  },
  {
   "cell_type": "code",
   "execution_count": 3,
   "metadata": {
    "collapsed": false
   },
   "outputs": [
    {
     "data": {
      "text/plain": [
       "0    0.25\n",
       "1    0.50\n",
       "2    0.75\n",
       "3    1.00\n",
       "dtype: float64"
      ]
     },
     "execution_count": 3,
     "metadata": {},
     "output_type": "execute_result"
    }
   ],
   "source": [
    "data = pd.Series([0.25, 0.5, 0.75, 1.0])\n",
    "data"
   ]
  },
  {
   "cell_type": "markdown",
   "metadata": {},
   "source": [
    "As we see in the output above, the series has both a sequence of **values** and a sequence of **indices**. We can access these with the *values* and *index* attributes."
   ]
  },
  {
   "cell_type": "code",
   "execution_count": 4,
   "metadata": {
    "collapsed": false
   },
   "outputs": [
    {
     "data": {
      "text/plain": [
       "array([ 0.25,  0.5 ,  0.75,  1.  ])"
      ]
     },
     "execution_count": 4,
     "metadata": {},
     "output_type": "execute_result"
    }
   ],
   "source": [
    "data.values"
   ]
  },
  {
   "cell_type": "code",
   "execution_count": 5,
   "metadata": {
    "collapsed": false
   },
   "outputs": [
    {
     "data": {
      "text/plain": [
       "RangeIndex(start=0, stop=4, step=1)"
      ]
     },
     "execution_count": 5,
     "metadata": {},
     "output_type": "execute_result"
    }
   ],
   "source": [
    "data.index"
   ]
  },
  {
   "cell_type": "markdown",
   "metadata": {},
   "source": [
    "Like with a NumPy array, data can be accessed by the associated index"
   ]
  },
  {
   "cell_type": "code",
   "execution_count": 6,
   "metadata": {
    "collapsed": false
   },
   "outputs": [
    {
     "data": {
      "text/plain": [
       "0.75"
      ]
     },
     "execution_count": 6,
     "metadata": {},
     "output_type": "execute_result"
    }
   ],
   "source": [
    "data[2]"
   ]
  },
  {
   "cell_type": "markdown",
   "metadata": {},
   "source": [
    "## 2. 2 Pandas DataFrame\n",
    "\n",
    "A 2-dimensional labeled data structure with columns of potentially different types. You can think of it like a spreadsheet or SQL tables. \n",
    "\n",
    "It is generally the most commonly used pandas object"
   ]
  },
  {
   "cell_type": "markdown",
   "metadata": {},
   "source": [
    "## 2.3 Pandas Index\n",
    "An immutable array or as an ordered set which is used to reference and modify data."
   ]
  },
  {
   "cell_type": "markdown",
   "metadata": {},
   "source": [
    "# Exercise 1: \n",
    "\n",
    "Create a new panda series containing any data."
   ]
  },
  {
   "cell_type": "markdown",
   "metadata": {},
   "source": [
    "# 3. Reading from CSV file into dataframe\n",
    "\n",
    "You can read data from a CSV file using the **read_csv** function. By default, it assumes that the fields are comma-separated."
   ]
  },
  {
   "cell_type": "code",
   "execution_count": 7,
   "metadata": {
    "collapsed": false
   },
   "outputs": [],
   "source": [
    "cities = pd.read_csv('Data/Cities.csv')\n"
   ]
  },
  {
   "cell_type": "code",
   "execution_count": 8,
   "metadata": {
    "collapsed": false
   },
   "outputs": [
    {
     "data": {
      "text/plain": [
       "Index(['city', 'country', 'latitude', 'longitude', 'temperature'], dtype='object')"
      ]
     },
     "execution_count": 8,
     "metadata": {},
     "output_type": "execute_result"
    }
   ],
   "source": [
    "# List all the columns in the DataFrame\n",
    "cities.columns"
   ]
  },
  {
   "cell_type": "code",
   "execution_count": 9,
   "metadata": {
    "collapsed": false,
    "scrolled": false
   },
   "outputs": [
    {
     "data": {
      "text/plain": [
       "213"
      ]
     },
     "execution_count": 9,
     "metadata": {},
     "output_type": "execute_result"
    }
   ],
   "source": [
    "# We can use the len function again here to see how many columns there are in the dataframe: 213\n",
    "len(cities)"
   ]
  },
  {
   "cell_type": "code",
   "execution_count": 10,
   "metadata": {
    "collapsed": false
   },
   "outputs": [
    {
     "data": {
      "text/plain": [
       "(213, 5)"
      ]
     },
     "execution_count": 10,
     "metadata": {},
     "output_type": "execute_result"
    }
   ],
   "source": [
    "# How big is this dataframe (rows, columns)\n",
    "cities.shape"
   ]
  },
  {
   "cell_type": "code",
   "execution_count": 11,
   "metadata": {
    "collapsed": false
   },
   "outputs": [
    {
     "data": {
      "text/html": [
       "<div>\n",
       "<table border=\"1\" class=\"dataframe\">\n",
       "  <thead>\n",
       "    <tr style=\"text-align: right;\">\n",
       "      <th></th>\n",
       "      <th>city</th>\n",
       "      <th>country</th>\n",
       "      <th>latitude</th>\n",
       "      <th>longitude</th>\n",
       "      <th>temperature</th>\n",
       "    </tr>\n",
       "  </thead>\n",
       "  <tbody>\n",
       "    <tr>\n",
       "      <th>0</th>\n",
       "      <td>Aalborg</td>\n",
       "      <td>Denmark</td>\n",
       "      <td>57.03</td>\n",
       "      <td>9.92</td>\n",
       "      <td>7.52</td>\n",
       "    </tr>\n",
       "    <tr>\n",
       "      <th>1</th>\n",
       "      <td>Aberdeen</td>\n",
       "      <td>United Kingdom</td>\n",
       "      <td>57.17</td>\n",
       "      <td>-2.08</td>\n",
       "      <td>8.10</td>\n",
       "    </tr>\n",
       "    <tr>\n",
       "      <th>2</th>\n",
       "      <td>Abisko</td>\n",
       "      <td>Sweden</td>\n",
       "      <td>63.35</td>\n",
       "      <td>18.83</td>\n",
       "      <td>0.20</td>\n",
       "    </tr>\n",
       "    <tr>\n",
       "      <th>3</th>\n",
       "      <td>Adana</td>\n",
       "      <td>Turkey</td>\n",
       "      <td>36.99</td>\n",
       "      <td>35.32</td>\n",
       "      <td>18.67</td>\n",
       "    </tr>\n",
       "    <tr>\n",
       "      <th>4</th>\n",
       "      <td>Albacete</td>\n",
       "      <td>Spain</td>\n",
       "      <td>39.00</td>\n",
       "      <td>-1.87</td>\n",
       "      <td>12.62</td>\n",
       "    </tr>\n",
       "  </tbody>\n",
       "</table>\n",
       "</div>"
      ],
      "text/plain": [
       "       city         country  latitude  longitude  temperature\n",
       "0   Aalborg         Denmark     57.03       9.92         7.52\n",
       "1  Aberdeen  United Kingdom     57.17      -2.08         8.10\n",
       "2    Abisko          Sweden     63.35      18.83         0.20\n",
       "3     Adana          Turkey     36.99      35.32        18.67\n",
       "4  Albacete           Spain     39.00      -1.87        12.62"
      ]
     },
     "execution_count": 11,
     "metadata": {},
     "output_type": "execute_result"
    }
   ],
   "source": [
    "# Let view the first few rows \n",
    "cities.head()"
   ]
  },
  {
   "cell_type": "markdown",
   "metadata": {},
   "source": [
    "Notice that read_csv automatically considered the first row in the file to be a header row.\n",
    "We can override default behavior by customizing some the arguments, like header, names or index_col."
   ]
  },
  {
   "cell_type": "code",
   "execution_count": 17,
   "metadata": {
    "collapsed": false
   },
   "outputs": [
    {
     "data": {
      "text/html": [
       "<div>\n",
       "<table border=\"1\" class=\"dataframe\">\n",
       "  <thead>\n",
       "    <tr style=\"text-align: right;\">\n",
       "      <th></th>\n",
       "      <th>city</th>\n",
       "      <th>country</th>\n",
       "      <th>latitude</th>\n",
       "      <th>longitude</th>\n",
       "      <th>temperature</th>\n",
       "    </tr>\n",
       "  </thead>\n",
       "  <tbody>\n",
       "    <tr>\n",
       "      <th>209</th>\n",
       "      <td>Zaragoza</td>\n",
       "      <td>Spain</td>\n",
       "      <td>41.65</td>\n",
       "      <td>-0.89</td>\n",
       "      <td>14.17</td>\n",
       "    </tr>\n",
       "    <tr>\n",
       "      <th>210</th>\n",
       "      <td>Zhytomyr</td>\n",
       "      <td>Ukraine</td>\n",
       "      <td>50.25</td>\n",
       "      <td>28.66</td>\n",
       "      <td>6.67</td>\n",
       "    </tr>\n",
       "    <tr>\n",
       "      <th>211</th>\n",
       "      <td>Zonguldak</td>\n",
       "      <td>Turkey</td>\n",
       "      <td>41.43</td>\n",
       "      <td>31.78</td>\n",
       "      <td>10.64</td>\n",
       "    </tr>\n",
       "    <tr>\n",
       "      <th>212</th>\n",
       "      <td>Zurich</td>\n",
       "      <td>Switzerland</td>\n",
       "      <td>47.38</td>\n",
       "      <td>8.56</td>\n",
       "      <td>6.68</td>\n",
       "    </tr>\n",
       "  </tbody>\n",
       "</table>\n",
       "</div>"
      ],
      "text/plain": [
       "          city      country  latitude  longitude  temperature\n",
       "209   Zaragoza        Spain     41.65      -0.89        14.17\n",
       "210   Zhytomyr      Ukraine     50.25      28.66         6.67\n",
       "211  Zonguldak       Turkey     41.43      31.78        10.64\n",
       "212     Zurich  Switzerland     47.38       8.56         6.68"
      ]
     },
     "execution_count": 17,
     "metadata": {},
     "output_type": "execute_result"
    }
   ],
   "source": [
    "# View Last 4 rows\n",
    "cities.tail(4)"
   ]
  },
  {
   "cell_type": "markdown",
   "metadata": {},
   "source": [
    "# Exercise 2: \n",
    "\n",
    "* Load the Titanic data  as a pandas data frame and inspect the first 5 rows.\n",
    "* How many row does the data set contain?"
   ]
  },
  {
   "cell_type": "markdown",
   "metadata": {},
   "source": [
    "We can also inspect the format for our columns. We can see that some are integers, some are 'float' (can have a decimal), and some are 'objects' (text). If you have a identifying text variable that has accidentally been imported as a float, for instance, that could cause problems down the road, so you should fix it before continuing."
   ]
  },
  {
   "cell_type": "code",
   "execution_count": 12,
   "metadata": {
    "collapsed": false
   },
   "outputs": [
    {
     "data": {
      "text/plain": [
       "city            object\n",
       "country         object\n",
       "latitude       float64\n",
       "longitude      float64\n",
       "temperature    float64\n",
       "dtype: object"
      ]
     },
     "execution_count": 12,
     "metadata": {},
     "output_type": "execute_result"
    }
   ],
   "source": [
    "cities.dtypes"
   ]
  },
  {
   "cell_type": "markdown",
   "metadata": {},
   "source": [
    "## 3. 2 Adding and Droping column\n",
    "Let us add another column to the cities dataframe. Suppose we want to add temperature in Farenheight"
   ]
  },
  {
   "cell_type": "code",
   "execution_count": 13,
   "metadata": {
    "collapsed": true
   },
   "outputs": [],
   "source": [
    "cities['tempF']=cities['temperature']*9/5+32"
   ]
  },
  {
   "cell_type": "code",
   "execution_count": 14,
   "metadata": {
    "collapsed": false
   },
   "outputs": [
    {
     "data": {
      "text/html": [
       "<div>\n",
       "<table border=\"1\" class=\"dataframe\">\n",
       "  <thead>\n",
       "    <tr style=\"text-align: right;\">\n",
       "      <th></th>\n",
       "      <th>city</th>\n",
       "      <th>country</th>\n",
       "      <th>latitude</th>\n",
       "      <th>longitude</th>\n",
       "      <th>temperature</th>\n",
       "      <th>tempF</th>\n",
       "    </tr>\n",
       "  </thead>\n",
       "  <tbody>\n",
       "    <tr>\n",
       "      <th>0</th>\n",
       "      <td>Aalborg</td>\n",
       "      <td>Denmark</td>\n",
       "      <td>57.03</td>\n",
       "      <td>9.92</td>\n",
       "      <td>7.52</td>\n",
       "      <td>45.536</td>\n",
       "    </tr>\n",
       "    <tr>\n",
       "      <th>1</th>\n",
       "      <td>Aberdeen</td>\n",
       "      <td>United Kingdom</td>\n",
       "      <td>57.17</td>\n",
       "      <td>-2.08</td>\n",
       "      <td>8.10</td>\n",
       "      <td>46.580</td>\n",
       "    </tr>\n",
       "    <tr>\n",
       "      <th>2</th>\n",
       "      <td>Abisko</td>\n",
       "      <td>Sweden</td>\n",
       "      <td>63.35</td>\n",
       "      <td>18.83</td>\n",
       "      <td>0.20</td>\n",
       "      <td>32.360</td>\n",
       "    </tr>\n",
       "    <tr>\n",
       "      <th>3</th>\n",
       "      <td>Adana</td>\n",
       "      <td>Turkey</td>\n",
       "      <td>36.99</td>\n",
       "      <td>35.32</td>\n",
       "      <td>18.67</td>\n",
       "      <td>65.606</td>\n",
       "    </tr>\n",
       "    <tr>\n",
       "      <th>4</th>\n",
       "      <td>Albacete</td>\n",
       "      <td>Spain</td>\n",
       "      <td>39.00</td>\n",
       "      <td>-1.87</td>\n",
       "      <td>12.62</td>\n",
       "      <td>54.716</td>\n",
       "    </tr>\n",
       "  </tbody>\n",
       "</table>\n",
       "</div>"
      ],
      "text/plain": [
       "       city         country  latitude  longitude  temperature   tempF\n",
       "0   Aalborg         Denmark     57.03       9.92         7.52  45.536\n",
       "1  Aberdeen  United Kingdom     57.17      -2.08         8.10  46.580\n",
       "2    Abisko          Sweden     63.35      18.83         0.20  32.360\n",
       "3     Adana          Turkey     36.99      35.32        18.67  65.606\n",
       "4  Albacete           Spain     39.00      -1.87        12.62  54.716"
      ]
     },
     "execution_count": 14,
     "metadata": {},
     "output_type": "execute_result"
    }
   ],
   "source": [
    "cities.head()"
   ]
  },
  {
   "cell_type": "markdown",
   "metadata": {},
   "source": [
    "It clear from the above result we can perform arthmetic operation on pandas dataframe."
   ]
  },
  {
   "cell_type": "markdown",
   "metadata": {},
   "source": [
    "# <font color=\"red\">Exercise</font>\n",
    "\n",
    "Add Fare column in Tsh to the titanic dataframe: Hint 1USD = 2000Tsh"
   ]
  },
  {
   "cell_type": "code",
   "execution_count": null,
   "metadata": {
    "collapsed": true
   },
   "outputs": [],
   "source": [
    "#"
   ]
  },
  {
   "cell_type": "markdown",
   "metadata": {},
   "source": [
    "### Dropping Column\n",
    "\n",
    "We can  delete column in panda dataframe. Let us delete the tempF column in cities dataframe."
   ]
  },
  {
   "cell_type": "code",
   "execution_count": 15,
   "metadata": {
    "collapsed": false
   },
   "outputs": [
    {
     "data": {
      "text/html": [
       "<div>\n",
       "<table border=\"1\" class=\"dataframe\">\n",
       "  <thead>\n",
       "    <tr style=\"text-align: right;\">\n",
       "      <th></th>\n",
       "      <th>city</th>\n",
       "      <th>country</th>\n",
       "      <th>latitude</th>\n",
       "      <th>longitude</th>\n",
       "      <th>temperature</th>\n",
       "    </tr>\n",
       "  </thead>\n",
       "  <tbody>\n",
       "    <tr>\n",
       "      <th>0</th>\n",
       "      <td>Aalborg</td>\n",
       "      <td>Denmark</td>\n",
       "      <td>57.03</td>\n",
       "      <td>9.92</td>\n",
       "      <td>7.52</td>\n",
       "    </tr>\n",
       "    <tr>\n",
       "      <th>1</th>\n",
       "      <td>Aberdeen</td>\n",
       "      <td>United Kingdom</td>\n",
       "      <td>57.17</td>\n",
       "      <td>-2.08</td>\n",
       "      <td>8.10</td>\n",
       "    </tr>\n",
       "    <tr>\n",
       "      <th>2</th>\n",
       "      <td>Abisko</td>\n",
       "      <td>Sweden</td>\n",
       "      <td>63.35</td>\n",
       "      <td>18.83</td>\n",
       "      <td>0.20</td>\n",
       "    </tr>\n",
       "    <tr>\n",
       "      <th>3</th>\n",
       "      <td>Adana</td>\n",
       "      <td>Turkey</td>\n",
       "      <td>36.99</td>\n",
       "      <td>35.32</td>\n",
       "      <td>18.67</td>\n",
       "    </tr>\n",
       "    <tr>\n",
       "      <th>4</th>\n",
       "      <td>Albacete</td>\n",
       "      <td>Spain</td>\n",
       "      <td>39.00</td>\n",
       "      <td>-1.87</td>\n",
       "      <td>12.62</td>\n",
       "    </tr>\n",
       "  </tbody>\n",
       "</table>\n",
       "</div>"
      ],
      "text/plain": [
       "       city         country  latitude  longitude  temperature\n",
       "0   Aalborg         Denmark     57.03       9.92         7.52\n",
       "1  Aberdeen  United Kingdom     57.17      -2.08         8.10\n",
       "2    Abisko          Sweden     63.35      18.83         0.20\n",
       "3     Adana          Turkey     36.99      35.32        18.67\n",
       "4  Albacete           Spain     39.00      -1.87        12.62"
      ]
     },
     "execution_count": 15,
     "metadata": {},
     "output_type": "execute_result"
    }
   ],
   "source": [
    "cities.drop('tempF', axis=1, inplace=True)\n",
    "cities.head()"
   ]
  },
  {
   "cell_type": "markdown",
   "metadata": {},
   "source": [
    "### Note:\n",
    " 1. **axis=1** denotes that we are referring to a column, not a row\n",
    " 2. **inplace=True** means that the changes are saved to the df right away"
   ]
  },
  {
   "cell_type": "markdown",
   "metadata": {},
   "source": [
    "# <font color=\"red\">Exercise</font>\n",
    "* Drop the Fare in Tsh you created in the previous exercise.\n",
    "* Also delete the ticket and cabin column.\n",
    "\n",
    "**Hint**: To delete multiple column use *dataframe.drop(['Column_name1', 'Column_name2'], axis=1)*."
   ]
  },
  {
   "cell_type": "code",
   "execution_count": null,
   "metadata": {
    "collapsed": true
   },
   "outputs": [],
   "source": [
    "#"
   ]
  },
  {
   "cell_type": "markdown",
   "metadata": {},
   "source": [
    "## 3.3  Slicing Subsets of Rows and Columns in Python"
   ]
  },
  {
   "cell_type": "markdown",
   "metadata": {},
   "source": [
    "#### Selecting a single column - returns a 'series'"
   ]
  },
  {
   "cell_type": "code",
   "execution_count": 16,
   "metadata": {
    "collapsed": false
   },
   "outputs": [
    {
     "data": {
      "text/plain": [
       "0           Aalborg\n",
       "1          Aberdeen\n",
       "2            Abisko\n",
       "3             Adana\n",
       "4          Albacete\n",
       "5         Algeciras\n",
       "6            Amiens\n",
       "7         Amsterdam\n",
       "8            Ancona\n",
       "9           Andorra\n",
       "10           Angers\n",
       "11           Ankara\n",
       "12          Antalya\n",
       "13             Arad\n",
       "14           Athens\n",
       "15         Augsburg\n",
       "16            Bacau\n",
       "17          Badajoz\n",
       "18        Baia Mare\n",
       "19            Balti\n",
       "20        Barcelona\n",
       "21             Bari\n",
       "22            Basel\n",
       "23           Batman\n",
       "24          Belfast\n",
       "25         Belgrade\n",
       "26          Bergamo\n",
       "27           Bergen\n",
       "28           Berlin\n",
       "29        Bialystok\n",
       "           ...     \n",
       "183           Split\n",
       "184    Stara Zagora\n",
       "185       Stavanger\n",
       "186       Stockholm\n",
       "187            Sumy\n",
       "188         Swansea\n",
       "189          Szeged\n",
       "190         Tallinn\n",
       "191         Tampere\n",
       "192          Tarsus\n",
       "193           Tartu\n",
       "194        Tekirdag\n",
       "195        Toulouse\n",
       "196         Trabzon\n",
       "197         Trieste\n",
       "198         Trikala\n",
       "199       Trondheim\n",
       "200           Turku\n",
       "201         Uppsala\n",
       "202        Valencia\n",
       "203          Vienna\n",
       "204            Vigo\n",
       "205         Vilnius\n",
       "206          Warsaw\n",
       "207         Wroclaw\n",
       "208     Yevpatoriya\n",
       "209        Zaragoza\n",
       "210        Zhytomyr\n",
       "211       Zonguldak\n",
       "212          Zurich\n",
       "Name: city, dtype: object"
      ]
     },
     "execution_count": 16,
     "metadata": {},
     "output_type": "execute_result"
    }
   ],
   "source": [
    "cities.city"
   ]
  },
  {
   "cell_type": "code",
   "execution_count": 30,
   "metadata": {
    "collapsed": true
   },
   "outputs": [],
   "source": [
    "# Also show try\n",
    "# cities['temperature']"
   ]
  },
  {
   "cell_type": "markdown",
   "metadata": {},
   "source": [
    "#### Selecting multiple columns - returns a dataframe\n"
   ]
  },
  {
   "cell_type": "code",
   "execution_count": 33,
   "metadata": {
    "collapsed": false
   },
   "outputs": [],
   "source": [
    "#cities[['city','temperature']]\n"
   ]
  },
  {
   "cell_type": "markdown",
   "metadata": {},
   "source": [
    "#### Selecting rows by number"
   ]
  },
  {
   "cell_type": "code",
   "execution_count": 34,
   "metadata": {
    "collapsed": false
   },
   "outputs": [
    {
     "data": {
      "text/html": [
       "<div>\n",
       "<table border=\"1\" class=\"dataframe\">\n",
       "  <thead>\n",
       "    <tr style=\"text-align: right;\">\n",
       "      <th></th>\n",
       "      <th>city</th>\n",
       "      <th>country</th>\n",
       "      <th>latitude</th>\n",
       "      <th>longitude</th>\n",
       "      <th>temperature</th>\n",
       "    </tr>\n",
       "  </thead>\n",
       "  <tbody>\n",
       "    <tr>\n",
       "      <th>15</th>\n",
       "      <td>Augsburg</td>\n",
       "      <td>Germany</td>\n",
       "      <td>48.35</td>\n",
       "      <td>10.90</td>\n",
       "      <td>4.54</td>\n",
       "    </tr>\n",
       "    <tr>\n",
       "      <th>16</th>\n",
       "      <td>Bacau</td>\n",
       "      <td>Romania</td>\n",
       "      <td>46.58</td>\n",
       "      <td>26.92</td>\n",
       "      <td>7.51</td>\n",
       "    </tr>\n",
       "    <tr>\n",
       "      <th>17</th>\n",
       "      <td>Badajoz</td>\n",
       "      <td>Spain</td>\n",
       "      <td>38.88</td>\n",
       "      <td>-6.97</td>\n",
       "      <td>15.61</td>\n",
       "    </tr>\n",
       "    <tr>\n",
       "      <th>18</th>\n",
       "      <td>Baia Mare</td>\n",
       "      <td>Romania</td>\n",
       "      <td>47.66</td>\n",
       "      <td>23.58</td>\n",
       "      <td>8.87</td>\n",
       "    </tr>\n",
       "    <tr>\n",
       "      <th>19</th>\n",
       "      <td>Balti</td>\n",
       "      <td>Moldova</td>\n",
       "      <td>47.76</td>\n",
       "      <td>27.91</td>\n",
       "      <td>8.23</td>\n",
       "    </tr>\n",
       "  </tbody>\n",
       "</table>\n",
       "</div>"
      ],
      "text/plain": [
       "         city  country  latitude  longitude  temperature\n",
       "15   Augsburg  Germany     48.35      10.90         4.54\n",
       "16      Bacau  Romania     46.58      26.92         7.51\n",
       "17    Badajoz    Spain     38.88      -6.97        15.61\n",
       "18  Baia Mare  Romania     47.66      23.58         8.87\n",
       "19      Balti  Moldova     47.76      27.91         8.23"
      ]
     },
     "execution_count": 34,
     "metadata": {},
     "output_type": "execute_result"
    }
   ],
   "source": [
    "cities[15:20]\n"
   ]
  },
  {
   "cell_type": "code",
   "execution_count": 35,
   "metadata": {
    "collapsed": true
   },
   "outputs": [],
   "source": [
    "# Try  cities[:8] and cities[200:]"
   ]
  },
  {
   "cell_type": "markdown",
   "metadata": {},
   "source": [
    "## 3.4 Position Based Selection of columns and lows\n",
    "Pandas allows us to use position based indexing implemented with iloc and loc: \n",
    ">**.loc** for label-based indexing\n",
    "\n",
    ">**.iloc** for positional indexing"
   ]
  },
  {
   "cell_type": "markdown",
   "metadata": {},
   "source": [
    "#### To slice a specific column using label indexing"
   ]
  },
  {
   "cell_type": "code",
   "execution_count": 37,
   "metadata": {
    "collapsed": false
   },
   "outputs": [],
   "source": [
    "# And here is how to slice a column:\n",
    "cities.loc[: , \"temperature\"]"
   ]
  },
  {
   "cell_type": "markdown",
   "metadata": {},
   "source": [
    "We can also use postion indexing"
   ]
  },
  {
   "cell_type": "code",
   "execution_count": null,
   "metadata": {
    "collapsed": true
   },
   "outputs": [],
   "source": [
    "cities.iloc[:,4] "
   ]
  },
  {
   "cell_type": "markdown",
   "metadata": {},
   "source": [
    "####  To extract only a row you would do the inverse:"
   ]
  },
  {
   "cell_type": "code",
   "execution_count": 38,
   "metadata": {
    "collapsed": false
   },
   "outputs": [
    {
     "data": {
      "text/plain": [
       "city           Albacete\n",
       "country           Spain\n",
       "latitude             39\n",
       "longitude         -1.87\n",
       "temperature       12.62\n",
       "Name: 4, dtype: object"
      ]
     },
     "execution_count": 38,
     "metadata": {},
     "output_type": "execute_result"
    }
   ],
   "source": [
    "cities.iloc[4,:]"
   ]
  },
  {
   "cell_type": "markdown",
   "metadata": {},
   "source": [
    "#### To select range of row and column"
   ]
  },
  {
   "cell_type": "code",
   "execution_count": 39,
   "metadata": {
    "collapsed": false
   },
   "outputs": [
    {
     "data": {
      "text/html": [
       "<div>\n",
       "<table border=\"1\" class=\"dataframe\">\n",
       "  <thead>\n",
       "    <tr style=\"text-align: right;\">\n",
       "      <th></th>\n",
       "      <th>city</th>\n",
       "      <th>country</th>\n",
       "    </tr>\n",
       "  </thead>\n",
       "  <tbody>\n",
       "    <tr>\n",
       "      <th>0</th>\n",
       "      <td>Aalborg</td>\n",
       "      <td>Denmark</td>\n",
       "    </tr>\n",
       "    <tr>\n",
       "      <th>1</th>\n",
       "      <td>Aberdeen</td>\n",
       "      <td>United Kingdom</td>\n",
       "    </tr>\n",
       "    <tr>\n",
       "      <th>2</th>\n",
       "      <td>Abisko</td>\n",
       "      <td>Sweden</td>\n",
       "    </tr>\n",
       "  </tbody>\n",
       "</table>\n",
       "</div>"
      ],
      "text/plain": [
       "       city         country\n",
       "0   Aalborg         Denmark\n",
       "1  Aberdeen  United Kingdom\n",
       "2    Abisko          Sweden"
      ]
     },
     "execution_count": 39,
     "metadata": {},
     "output_type": "execute_result"
    }
   ],
   "source": [
    "## Select first four rows(including header) and first three column (including SN)\n",
    "cities.iloc[0:3,0:2]"
   ]
  },
  {
   "cell_type": "markdown",
   "metadata": {},
   "source": [
    "#### Select only the specified range of column"
   ]
  },
  {
   "cell_type": "code",
   "execution_count": 42,
   "metadata": {
    "collapsed": false
   },
   "outputs": [],
   "source": [
    "cities.iloc[:,0:2] #"
   ]
  },
  {
   "cell_type": "markdown",
   "metadata": {},
   "source": [
    "#### To select  different columns "
   ]
  },
  {
   "cell_type": "code",
   "execution_count": 45,
   "metadata": {
    "collapsed": false
   },
   "outputs": [],
   "source": [
    "cities.iloc[:,[1, 4]]"
   ]
  },
  {
   "cell_type": "markdown",
   "metadata": {},
   "source": [
    "# <font color=\"red\">Exercise</font>\n",
    "\n",
    "* What happens when you type the code below?\n",
    "> ```python\n",
    "     cities.loc[[0, 10, 200], :]\n",
    "  ```\n",
    "\n",
    "* What happens when you type\n",
    "> ```python\n",
    "    cities.iloc[0:4, 1:4]\n",
    "    cities.loc[0:4, 1:4]\n",
    "  ```\n",
    " How are the two commands different?\n",
    " \n",
    " \n",
    "* What happens when you type:\n",
    "> \n",
    "```python\n",
    "          cities[0:3]\n",
    "          cities[:5]\n",
    "          cities[-1:] \n",
    "```          \n",
    "          "
   ]
  },
  {
   "cell_type": "markdown",
   "metadata": {},
   "source": [
    "## 3.5 Subsetting Data Using Criteria\n",
    "We can also select a subset of our data using criteria. For example, we can select all rows that have temprature higher than 15."
   ]
  },
  {
   "cell_type": "code",
   "execution_count": 46,
   "metadata": {
    "collapsed": false
   },
   "outputs": [
    {
     "data": {
      "text/html": [
       "<div>\n",
       "<table border=\"1\" class=\"dataframe\">\n",
       "  <thead>\n",
       "    <tr style=\"text-align: right;\">\n",
       "      <th></th>\n",
       "      <th>city</th>\n",
       "      <th>country</th>\n",
       "      <th>latitude</th>\n",
       "      <th>longitude</th>\n",
       "      <th>temperature</th>\n",
       "    </tr>\n",
       "  </thead>\n",
       "  <tbody>\n",
       "    <tr>\n",
       "      <th>3</th>\n",
       "      <td>Adana</td>\n",
       "      <td>Turkey</td>\n",
       "      <td>36.99</td>\n",
       "      <td>35.32</td>\n",
       "      <td>18.67</td>\n",
       "    </tr>\n",
       "    <tr>\n",
       "      <th>5</th>\n",
       "      <td>Algeciras</td>\n",
       "      <td>Spain</td>\n",
       "      <td>36.13</td>\n",
       "      <td>-5.47</td>\n",
       "      <td>17.38</td>\n",
       "    </tr>\n",
       "    <tr>\n",
       "      <th>14</th>\n",
       "      <td>Athens</td>\n",
       "      <td>Greece</td>\n",
       "      <td>37.98</td>\n",
       "      <td>23.73</td>\n",
       "      <td>17.41</td>\n",
       "    </tr>\n",
       "    <tr>\n",
       "      <th>17</th>\n",
       "      <td>Badajoz</td>\n",
       "      <td>Spain</td>\n",
       "      <td>38.88</td>\n",
       "      <td>-6.97</td>\n",
       "      <td>15.61</td>\n",
       "    </tr>\n",
       "    <tr>\n",
       "      <th>20</th>\n",
       "      <td>Barcelona</td>\n",
       "      <td>Spain</td>\n",
       "      <td>41.38</td>\n",
       "      <td>2.18</td>\n",
       "      <td>15.78</td>\n",
       "    </tr>\n",
       "    <tr>\n",
       "      <th>21</th>\n",
       "      <td>Bari</td>\n",
       "      <td>Italy</td>\n",
       "      <td>41.11</td>\n",
       "      <td>16.87</td>\n",
       "      <td>15.15</td>\n",
       "    </tr>\n",
       "    <tr>\n",
       "      <th>59</th>\n",
       "      <td>Cartagena</td>\n",
       "      <td>Spain</td>\n",
       "      <td>37.60</td>\n",
       "      <td>-0.98</td>\n",
       "      <td>17.32</td>\n",
       "    </tr>\n",
       "    <tr>\n",
       "      <th>60</th>\n",
       "      <td>Catania</td>\n",
       "      <td>Italy</td>\n",
       "      <td>37.50</td>\n",
       "      <td>15.08</td>\n",
       "      <td>15.04</td>\n",
       "    </tr>\n",
       "    <tr>\n",
       "      <th>68</th>\n",
       "      <td>Cosenza</td>\n",
       "      <td>Italy</td>\n",
       "      <td>39.27</td>\n",
       "      <td>16.29</td>\n",
       "      <td>16.60</td>\n",
       "    </tr>\n",
       "    <tr>\n",
       "      <th>72</th>\n",
       "      <td>Denizli</td>\n",
       "      <td>Turkey</td>\n",
       "      <td>37.77</td>\n",
       "      <td>29.08</td>\n",
       "      <td>15.02</td>\n",
       "    </tr>\n",
       "    <tr>\n",
       "      <th>78</th>\n",
       "      <td>Elbasan</td>\n",
       "      <td>Albania</td>\n",
       "      <td>41.12</td>\n",
       "      <td>20.08</td>\n",
       "      <td>15.18</td>\n",
       "    </tr>\n",
       "    <tr>\n",
       "      <th>94</th>\n",
       "      <td>Granada</td>\n",
       "      <td>Spain</td>\n",
       "      <td>37.16</td>\n",
       "      <td>-3.59</td>\n",
       "      <td>16.33</td>\n",
       "    </tr>\n",
       "    <tr>\n",
       "      <th>103</th>\n",
       "      <td>Huelva</td>\n",
       "      <td>Spain</td>\n",
       "      <td>37.25</td>\n",
       "      <td>-6.93</td>\n",
       "      <td>17.09</td>\n",
       "    </tr>\n",
       "    <tr>\n",
       "      <th>108</th>\n",
       "      <td>Kalamata</td>\n",
       "      <td>Greece</td>\n",
       "      <td>37.04</td>\n",
       "      <td>22.11</td>\n",
       "      <td>17.30</td>\n",
       "    </tr>\n",
       "    <tr>\n",
       "      <th>126</th>\n",
       "      <td>Lisbon</td>\n",
       "      <td>Portugal</td>\n",
       "      <td>38.72</td>\n",
       "      <td>-9.14</td>\n",
       "      <td>15.52</td>\n",
       "    </tr>\n",
       "    <tr>\n",
       "      <th>135</th>\n",
       "      <td>Manisa</td>\n",
       "      <td>Turkey</td>\n",
       "      <td>38.63</td>\n",
       "      <td>27.44</td>\n",
       "      <td>15.10</td>\n",
       "    </tr>\n",
       "    <tr>\n",
       "      <th>136</th>\n",
       "      <td>Marbella</td>\n",
       "      <td>Spain</td>\n",
       "      <td>36.52</td>\n",
       "      <td>-4.88</td>\n",
       "      <td>17.19</td>\n",
       "    </tr>\n",
       "    <tr>\n",
       "      <th>139</th>\n",
       "      <td>Messina</td>\n",
       "      <td>Italy</td>\n",
       "      <td>38.20</td>\n",
       "      <td>15.55</td>\n",
       "      <td>16.54</td>\n",
       "    </tr>\n",
       "    <tr>\n",
       "      <th>156</th>\n",
       "      <td>Palermo</td>\n",
       "      <td>Italy</td>\n",
       "      <td>38.13</td>\n",
       "      <td>13.35</td>\n",
       "      <td>17.90</td>\n",
       "    </tr>\n",
       "    <tr>\n",
       "      <th>157</th>\n",
       "      <td>Patras</td>\n",
       "      <td>Greece</td>\n",
       "      <td>38.23</td>\n",
       "      <td>21.73</td>\n",
       "      <td>16.90</td>\n",
       "    </tr>\n",
       "    <tr>\n",
       "      <th>160</th>\n",
       "      <td>Pescara</td>\n",
       "      <td>Italy</td>\n",
       "      <td>42.46</td>\n",
       "      <td>14.22</td>\n",
       "      <td>15.13</td>\n",
       "    </tr>\n",
       "    <tr>\n",
       "      <th>171</th>\n",
       "      <td>Rome</td>\n",
       "      <td>Italy</td>\n",
       "      <td>41.90</td>\n",
       "      <td>12.48</td>\n",
       "      <td>15.10</td>\n",
       "    </tr>\n",
       "    <tr>\n",
       "      <th>198</th>\n",
       "      <td>Trikala</td>\n",
       "      <td>Greece</td>\n",
       "      <td>39.56</td>\n",
       "      <td>21.77</td>\n",
       "      <td>16.00</td>\n",
       "    </tr>\n",
       "    <tr>\n",
       "      <th>202</th>\n",
       "      <td>Valencia</td>\n",
       "      <td>Spain</td>\n",
       "      <td>39.49</td>\n",
       "      <td>-0.40</td>\n",
       "      <td>16.02</td>\n",
       "    </tr>\n",
       "  </tbody>\n",
       "</table>\n",
       "</div>"
      ],
      "text/plain": [
       "          city   country  latitude  longitude  temperature\n",
       "3        Adana    Turkey     36.99      35.32        18.67\n",
       "5    Algeciras     Spain     36.13      -5.47        17.38\n",
       "14      Athens    Greece     37.98      23.73        17.41\n",
       "17     Badajoz     Spain     38.88      -6.97        15.61\n",
       "20   Barcelona     Spain     41.38       2.18        15.78\n",
       "21        Bari     Italy     41.11      16.87        15.15\n",
       "59   Cartagena     Spain     37.60      -0.98        17.32\n",
       "60     Catania     Italy     37.50      15.08        15.04\n",
       "68     Cosenza     Italy     39.27      16.29        16.60\n",
       "72     Denizli    Turkey     37.77      29.08        15.02\n",
       "78     Elbasan   Albania     41.12      20.08        15.18\n",
       "94     Granada     Spain     37.16      -3.59        16.33\n",
       "103     Huelva     Spain     37.25      -6.93        17.09\n",
       "108   Kalamata    Greece     37.04      22.11        17.30\n",
       "126     Lisbon  Portugal     38.72      -9.14        15.52\n",
       "135     Manisa    Turkey     38.63      27.44        15.10\n",
       "136   Marbella     Spain     36.52      -4.88        17.19\n",
       "139    Messina     Italy     38.20      15.55        16.54\n",
       "156    Palermo     Italy     38.13      13.35        17.90\n",
       "157     Patras    Greece     38.23      21.73        16.90\n",
       "160    Pescara     Italy     42.46      14.22        15.13\n",
       "171       Rome     Italy     41.90      12.48        15.10\n",
       "198    Trikala    Greece     39.56      21.77        16.00\n",
       "202   Valencia     Spain     39.49      -0.40        16.02"
      ]
     },
     "execution_count": 46,
     "metadata": {},
     "output_type": "execute_result"
    }
   ],
   "source": [
    "cities[cities.temperature > 15]"
   ]
  },
  {
   "cell_type": "markdown",
   "metadata": {},
   "source": [
    "Or we can select all rows which are in France"
   ]
  },
  {
   "cell_type": "code",
   "execution_count": 47,
   "metadata": {
    "collapsed": false
   },
   "outputs": [
    {
     "data": {
      "text/html": [
       "<div>\n",
       "<table border=\"1\" class=\"dataframe\">\n",
       "  <thead>\n",
       "    <tr style=\"text-align: right;\">\n",
       "      <th></th>\n",
       "      <th>city</th>\n",
       "      <th>country</th>\n",
       "      <th>latitude</th>\n",
       "      <th>longitude</th>\n",
       "      <th>temperature</th>\n",
       "    </tr>\n",
       "  </thead>\n",
       "  <tbody>\n",
       "    <tr>\n",
       "      <th>6</th>\n",
       "      <td>Amiens</td>\n",
       "      <td>France</td>\n",
       "      <td>49.90</td>\n",
       "      <td>2.30</td>\n",
       "      <td>10.17</td>\n",
       "    </tr>\n",
       "    <tr>\n",
       "      <th>10</th>\n",
       "      <td>Angers</td>\n",
       "      <td>France</td>\n",
       "      <td>47.48</td>\n",
       "      <td>-0.53</td>\n",
       "      <td>10.98</td>\n",
       "    </tr>\n",
       "    <tr>\n",
       "      <th>38</th>\n",
       "      <td>Bordeaux</td>\n",
       "      <td>France</td>\n",
       "      <td>44.85</td>\n",
       "      <td>-0.60</td>\n",
       "      <td>11.87</td>\n",
       "    </tr>\n",
       "    <tr>\n",
       "      <th>46</th>\n",
       "      <td>Brest</td>\n",
       "      <td>France</td>\n",
       "      <td>48.39</td>\n",
       "      <td>-4.50</td>\n",
       "      <td>11.02</td>\n",
       "    </tr>\n",
       "    <tr>\n",
       "      <th>57</th>\n",
       "      <td>Caen</td>\n",
       "      <td>France</td>\n",
       "      <td>49.18</td>\n",
       "      <td>-0.35</td>\n",
       "      <td>9.96</td>\n",
       "    </tr>\n",
       "    <tr>\n",
       "      <th>73</th>\n",
       "      <td>Dijon</td>\n",
       "      <td>France</td>\n",
       "      <td>47.33</td>\n",
       "      <td>5.03</td>\n",
       "      <td>8.69</td>\n",
       "    </tr>\n",
       "    <tr>\n",
       "      <th>96</th>\n",
       "      <td>Grenoble</td>\n",
       "      <td>France</td>\n",
       "      <td>45.18</td>\n",
       "      <td>5.72</td>\n",
       "      <td>8.40</td>\n",
       "    </tr>\n",
       "    <tr>\n",
       "      <th>122</th>\n",
       "      <td>Le Mans</td>\n",
       "      <td>France</td>\n",
       "      <td>48.00</td>\n",
       "      <td>0.10</td>\n",
       "      <td>10.59</td>\n",
       "    </tr>\n",
       "    <tr>\n",
       "      <th>123</th>\n",
       "      <td>Lille</td>\n",
       "      <td>France</td>\n",
       "      <td>50.65</td>\n",
       "      <td>3.08</td>\n",
       "      <td>9.65</td>\n",
       "    </tr>\n",
       "    <tr>\n",
       "      <th>124</th>\n",
       "      <td>Limoges</td>\n",
       "      <td>France</td>\n",
       "      <td>45.83</td>\n",
       "      <td>1.25</td>\n",
       "      <td>10.32</td>\n",
       "    </tr>\n",
       "    <tr>\n",
       "      <th>137</th>\n",
       "      <td>Marseille</td>\n",
       "      <td>France</td>\n",
       "      <td>43.29</td>\n",
       "      <td>5.38</td>\n",
       "      <td>14.98</td>\n",
       "    </tr>\n",
       "    <tr>\n",
       "      <th>140</th>\n",
       "      <td>Metz</td>\n",
       "      <td>France</td>\n",
       "      <td>49.12</td>\n",
       "      <td>6.18</td>\n",
       "      <td>8.88</td>\n",
       "    </tr>\n",
       "    <tr>\n",
       "      <th>143</th>\n",
       "      <td>Montpellier</td>\n",
       "      <td>France</td>\n",
       "      <td>43.61</td>\n",
       "      <td>3.87</td>\n",
       "      <td>11.11</td>\n",
       "    </tr>\n",
       "    <tr>\n",
       "      <th>144</th>\n",
       "      <td>Mulhouse</td>\n",
       "      <td>France</td>\n",
       "      <td>47.75</td>\n",
       "      <td>7.35</td>\n",
       "      <td>6.68</td>\n",
       "    </tr>\n",
       "    <tr>\n",
       "      <th>146</th>\n",
       "      <td>Nice</td>\n",
       "      <td>France</td>\n",
       "      <td>43.72</td>\n",
       "      <td>7.27</td>\n",
       "      <td>8.82</td>\n",
       "    </tr>\n",
       "    <tr>\n",
       "      <th>158</th>\n",
       "      <td>Perpignan</td>\n",
       "      <td>France</td>\n",
       "      <td>42.70</td>\n",
       "      <td>2.90</td>\n",
       "      <td>10.95</td>\n",
       "    </tr>\n",
       "    <tr>\n",
       "      <th>167</th>\n",
       "      <td>Reims</td>\n",
       "      <td>France</td>\n",
       "      <td>49.25</td>\n",
       "      <td>4.03</td>\n",
       "      <td>9.40</td>\n",
       "    </tr>\n",
       "    <tr>\n",
       "      <th>195</th>\n",
       "      <td>Toulouse</td>\n",
       "      <td>France</td>\n",
       "      <td>43.62</td>\n",
       "      <td>1.45</td>\n",
       "      <td>10.25</td>\n",
       "    </tr>\n",
       "  </tbody>\n",
       "</table>\n",
       "</div>"
      ],
      "text/plain": [
       "            city country  latitude  longitude  temperature\n",
       "6         Amiens  France     49.90       2.30        10.17\n",
       "10        Angers  France     47.48      -0.53        10.98\n",
       "38      Bordeaux  France     44.85      -0.60        11.87\n",
       "46         Brest  France     48.39      -4.50        11.02\n",
       "57          Caen  France     49.18      -0.35         9.96\n",
       "73         Dijon  France     47.33       5.03         8.69\n",
       "96      Grenoble  France     45.18       5.72         8.40\n",
       "122      Le Mans  France     48.00       0.10        10.59\n",
       "123        Lille  France     50.65       3.08         9.65\n",
       "124      Limoges  France     45.83       1.25        10.32\n",
       "137    Marseille  France     43.29       5.38        14.98\n",
       "140         Metz  France     49.12       6.18         8.88\n",
       "143  Montpellier  France     43.61       3.87        11.11\n",
       "144     Mulhouse  France     47.75       7.35         6.68\n",
       "146         Nice  France     43.72       7.27         8.82\n",
       "158    Perpignan  France     42.70       2.90        10.95\n",
       "167        Reims  France     49.25       4.03         9.40\n",
       "195     Toulouse  France     43.62       1.45        10.25"
      ]
     },
     "execution_count": 47,
     "metadata": {},
     "output_type": "execute_result"
    }
   ],
   "source": [
    "cities[cities.country == 'France']"
   ]
  },
  {
   "cell_type": "markdown",
   "metadata": {
    "collapsed": false
   },
   "source": [
    "We can also use string operations. For exampme select rows with countries with **\"ia\"** in their name."
   ]
  },
  {
   "cell_type": "code",
   "execution_count": 50,
   "metadata": {
    "collapsed": false
   },
   "outputs": [
    {
     "data": {
      "text/html": [
       "<div>\n",
       "<table border=\"1\" class=\"dataframe\">\n",
       "  <thead>\n",
       "    <tr style=\"text-align: right;\">\n",
       "      <th></th>\n",
       "      <th>city</th>\n",
       "      <th>country</th>\n",
       "      <th>latitude</th>\n",
       "      <th>longitude</th>\n",
       "      <th>temperature</th>\n",
       "    </tr>\n",
       "  </thead>\n",
       "  <tbody>\n",
       "    <tr>\n",
       "      <th>13</th>\n",
       "      <td>Arad</td>\n",
       "      <td>Romania</td>\n",
       "      <td>46.17</td>\n",
       "      <td>21.32</td>\n",
       "      <td>9.32</td>\n",
       "    </tr>\n",
       "    <tr>\n",
       "      <th>16</th>\n",
       "      <td>Bacau</td>\n",
       "      <td>Romania</td>\n",
       "      <td>46.58</td>\n",
       "      <td>26.92</td>\n",
       "      <td>7.51</td>\n",
       "    </tr>\n",
       "    <tr>\n",
       "      <th>18</th>\n",
       "      <td>Baia Mare</td>\n",
       "      <td>Romania</td>\n",
       "      <td>47.66</td>\n",
       "      <td>23.58</td>\n",
       "      <td>8.87</td>\n",
       "    </tr>\n",
       "    <tr>\n",
       "      <th>25</th>\n",
       "      <td>Belgrade</td>\n",
       "      <td>Serbia</td>\n",
       "      <td>44.82</td>\n",
       "      <td>20.47</td>\n",
       "      <td>9.85</td>\n",
       "    </tr>\n",
       "    <tr>\n",
       "      <th>39</th>\n",
       "      <td>Botosani</td>\n",
       "      <td>Romania</td>\n",
       "      <td>47.75</td>\n",
       "      <td>26.66</td>\n",
       "      <td>8.23</td>\n",
       "    </tr>\n",
       "    <tr>\n",
       "      <th>43</th>\n",
       "      <td>Braila</td>\n",
       "      <td>Romania</td>\n",
       "      <td>45.29</td>\n",
       "      <td>27.97</td>\n",
       "      <td>9.78</td>\n",
       "    </tr>\n",
       "    <tr>\n",
       "      <th>44</th>\n",
       "      <td>Bratislava</td>\n",
       "      <td>Slovakia</td>\n",
       "      <td>48.15</td>\n",
       "      <td>17.12</td>\n",
       "      <td>9.65</td>\n",
       "    </tr>\n",
       "    <tr>\n",
       "      <th>50</th>\n",
       "      <td>Bucharest</td>\n",
       "      <td>Romania</td>\n",
       "      <td>44.43</td>\n",
       "      <td>26.10</td>\n",
       "      <td>10.59</td>\n",
       "    </tr>\n",
       "    <tr>\n",
       "      <th>52</th>\n",
       "      <td>Burgas</td>\n",
       "      <td>Bulgaria</td>\n",
       "      <td>42.51</td>\n",
       "      <td>27.47</td>\n",
       "      <td>11.93</td>\n",
       "    </tr>\n",
       "    <tr>\n",
       "      <th>66</th>\n",
       "      <td>Constanta</td>\n",
       "      <td>Romania</td>\n",
       "      <td>44.20</td>\n",
       "      <td>28.61</td>\n",
       "      <td>11.24</td>\n",
       "    </tr>\n",
       "    <tr>\n",
       "      <th>69</th>\n",
       "      <td>Craiova</td>\n",
       "      <td>Romania</td>\n",
       "      <td>44.33</td>\n",
       "      <td>23.83</td>\n",
       "      <td>10.51</td>\n",
       "    </tr>\n",
       "    <tr>\n",
       "      <th>70</th>\n",
       "      <td>Daugavpils</td>\n",
       "      <td>Latvia</td>\n",
       "      <td>55.88</td>\n",
       "      <td>26.51</td>\n",
       "      <td>5.38</td>\n",
       "    </tr>\n",
       "    <tr>\n",
       "      <th>78</th>\n",
       "      <td>Elbasan</td>\n",
       "      <td>Albania</td>\n",
       "      <td>41.12</td>\n",
       "      <td>20.08</td>\n",
       "      <td>15.18</td>\n",
       "    </tr>\n",
       "    <tr>\n",
       "      <th>95</th>\n",
       "      <td>Graz</td>\n",
       "      <td>Austria</td>\n",
       "      <td>47.08</td>\n",
       "      <td>15.41</td>\n",
       "      <td>6.91</td>\n",
       "    </tr>\n",
       "    <tr>\n",
       "      <th>105</th>\n",
       "      <td>Innsbruck</td>\n",
       "      <td>Austria</td>\n",
       "      <td>47.28</td>\n",
       "      <td>11.41</td>\n",
       "      <td>4.54</td>\n",
       "    </tr>\n",
       "    <tr>\n",
       "      <th>111</th>\n",
       "      <td>Kaunas</td>\n",
       "      <td>Lithuania</td>\n",
       "      <td>54.95</td>\n",
       "      <td>23.88</td>\n",
       "      <td>6.05</td>\n",
       "    </tr>\n",
       "    <tr>\n",
       "      <th>117</th>\n",
       "      <td>Klaipeda</td>\n",
       "      <td>Lithuania</td>\n",
       "      <td>55.72</td>\n",
       "      <td>21.12</td>\n",
       "      <td>7.00</td>\n",
       "    </tr>\n",
       "    <tr>\n",
       "      <th>118</th>\n",
       "      <td>Kosice</td>\n",
       "      <td>Slovakia</td>\n",
       "      <td>48.73</td>\n",
       "      <td>21.25</td>\n",
       "      <td>7.31</td>\n",
       "    </tr>\n",
       "    <tr>\n",
       "      <th>125</th>\n",
       "      <td>Linz</td>\n",
       "      <td>Austria</td>\n",
       "      <td>48.32</td>\n",
       "      <td>14.29</td>\n",
       "      <td>6.79</td>\n",
       "    </tr>\n",
       "    <tr>\n",
       "      <th>127</th>\n",
       "      <td>Ljubljana</td>\n",
       "      <td>Slovenia</td>\n",
       "      <td>46.06</td>\n",
       "      <td>14.51</td>\n",
       "      <td>9.27</td>\n",
       "    </tr>\n",
       "    <tr>\n",
       "      <th>147</th>\n",
       "      <td>Nis</td>\n",
       "      <td>Serbia</td>\n",
       "      <td>43.33</td>\n",
       "      <td>21.90</td>\n",
       "      <td>9.36</td>\n",
       "    </tr>\n",
       "    <tr>\n",
       "      <th>148</th>\n",
       "      <td>Novi Sad</td>\n",
       "      <td>Serbia</td>\n",
       "      <td>45.25</td>\n",
       "      <td>19.85</td>\n",
       "      <td>10.34</td>\n",
       "    </tr>\n",
       "    <tr>\n",
       "      <th>162</th>\n",
       "      <td>Pleven</td>\n",
       "      <td>Bulgaria</td>\n",
       "      <td>43.42</td>\n",
       "      <td>24.61</td>\n",
       "      <td>10.51</td>\n",
       "    </tr>\n",
       "    <tr>\n",
       "      <th>163</th>\n",
       "      <td>Plovdiv</td>\n",
       "      <td>Bulgaria</td>\n",
       "      <td>42.15</td>\n",
       "      <td>24.75</td>\n",
       "      <td>8.27</td>\n",
       "    </tr>\n",
       "    <tr>\n",
       "      <th>168</th>\n",
       "      <td>Riga</td>\n",
       "      <td>Latvia</td>\n",
       "      <td>56.95</td>\n",
       "      <td>24.10</td>\n",
       "      <td>5.16</td>\n",
       "    </tr>\n",
       "    <tr>\n",
       "      <th>169</th>\n",
       "      <td>Rijeka</td>\n",
       "      <td>Croatia</td>\n",
       "      <td>45.33</td>\n",
       "      <td>14.45</td>\n",
       "      <td>9.27</td>\n",
       "    </tr>\n",
       "    <tr>\n",
       "      <th>173</th>\n",
       "      <td>Ruse</td>\n",
       "      <td>Bulgaria</td>\n",
       "      <td>43.85</td>\n",
       "      <td>25.97</td>\n",
       "      <td>10.59</td>\n",
       "    </tr>\n",
       "    <tr>\n",
       "      <th>175</th>\n",
       "      <td>Salzburg</td>\n",
       "      <td>Austria</td>\n",
       "      <td>47.81</td>\n",
       "      <td>13.04</td>\n",
       "      <td>4.62</td>\n",
       "    </tr>\n",
       "    <tr>\n",
       "      <th>178</th>\n",
       "      <td>Sarajevo</td>\n",
       "      <td>Bosnia and Herzegovina</td>\n",
       "      <td>43.85</td>\n",
       "      <td>13.38</td>\n",
       "      <td>9.60</td>\n",
       "    </tr>\n",
       "    <tr>\n",
       "      <th>179</th>\n",
       "      <td>Sibiu</td>\n",
       "      <td>Romania</td>\n",
       "      <td>45.80</td>\n",
       "      <td>24.14</td>\n",
       "      <td>6.97</td>\n",
       "    </tr>\n",
       "    <tr>\n",
       "      <th>182</th>\n",
       "      <td>Skopje</td>\n",
       "      <td>Macedonia</td>\n",
       "      <td>42.00</td>\n",
       "      <td>21.43</td>\n",
       "      <td>9.36</td>\n",
       "    </tr>\n",
       "    <tr>\n",
       "      <th>183</th>\n",
       "      <td>Split</td>\n",
       "      <td>Croatia</td>\n",
       "      <td>43.52</td>\n",
       "      <td>16.47</td>\n",
       "      <td>12.46</td>\n",
       "    </tr>\n",
       "    <tr>\n",
       "      <th>184</th>\n",
       "      <td>Stara Zagora</td>\n",
       "      <td>Bulgaria</td>\n",
       "      <td>42.42</td>\n",
       "      <td>25.62</td>\n",
       "      <td>10.90</td>\n",
       "    </tr>\n",
       "    <tr>\n",
       "      <th>190</th>\n",
       "      <td>Tallinn</td>\n",
       "      <td>Estonia</td>\n",
       "      <td>59.43</td>\n",
       "      <td>24.73</td>\n",
       "      <td>4.82</td>\n",
       "    </tr>\n",
       "    <tr>\n",
       "      <th>193</th>\n",
       "      <td>Tartu</td>\n",
       "      <td>Estonia</td>\n",
       "      <td>58.38</td>\n",
       "      <td>26.71</td>\n",
       "      <td>4.36</td>\n",
       "    </tr>\n",
       "    <tr>\n",
       "      <th>203</th>\n",
       "      <td>Vienna</td>\n",
       "      <td>Austria</td>\n",
       "      <td>48.20</td>\n",
       "      <td>16.37</td>\n",
       "      <td>7.86</td>\n",
       "    </tr>\n",
       "    <tr>\n",
       "      <th>205</th>\n",
       "      <td>Vilnius</td>\n",
       "      <td>Lithuania</td>\n",
       "      <td>54.68</td>\n",
       "      <td>25.32</td>\n",
       "      <td>5.38</td>\n",
       "    </tr>\n",
       "  </tbody>\n",
       "</table>\n",
       "</div>"
      ],
      "text/plain": [
       "             city                 country  latitude  longitude  temperature\n",
       "13           Arad                 Romania     46.17      21.32         9.32\n",
       "16          Bacau                 Romania     46.58      26.92         7.51\n",
       "18      Baia Mare                 Romania     47.66      23.58         8.87\n",
       "25       Belgrade                  Serbia     44.82      20.47         9.85\n",
       "39       Botosani                 Romania     47.75      26.66         8.23\n",
       "43         Braila                 Romania     45.29      27.97         9.78\n",
       "44     Bratislava                Slovakia     48.15      17.12         9.65\n",
       "50      Bucharest                 Romania     44.43      26.10        10.59\n",
       "52         Burgas                Bulgaria     42.51      27.47        11.93\n",
       "66      Constanta                 Romania     44.20      28.61        11.24\n",
       "69        Craiova                 Romania     44.33      23.83        10.51\n",
       "70     Daugavpils                  Latvia     55.88      26.51         5.38\n",
       "78        Elbasan                 Albania     41.12      20.08        15.18\n",
       "95           Graz                 Austria     47.08      15.41         6.91\n",
       "105     Innsbruck                 Austria     47.28      11.41         4.54\n",
       "111        Kaunas               Lithuania     54.95      23.88         6.05\n",
       "117      Klaipeda               Lithuania     55.72      21.12         7.00\n",
       "118        Kosice                Slovakia     48.73      21.25         7.31\n",
       "125          Linz                 Austria     48.32      14.29         6.79\n",
       "127     Ljubljana                Slovenia     46.06      14.51         9.27\n",
       "147           Nis                  Serbia     43.33      21.90         9.36\n",
       "148      Novi Sad                  Serbia     45.25      19.85        10.34\n",
       "162        Pleven                Bulgaria     43.42      24.61        10.51\n",
       "163       Plovdiv                Bulgaria     42.15      24.75         8.27\n",
       "168          Riga                  Latvia     56.95      24.10         5.16\n",
       "169        Rijeka                 Croatia     45.33      14.45         9.27\n",
       "173          Ruse                Bulgaria     43.85      25.97        10.59\n",
       "175      Salzburg                 Austria     47.81      13.04         4.62\n",
       "178      Sarajevo  Bosnia and Herzegovina     43.85      13.38         9.60\n",
       "179         Sibiu                 Romania     45.80      24.14         6.97\n",
       "182        Skopje               Macedonia     42.00      21.43         9.36\n",
       "183         Split                 Croatia     43.52      16.47        12.46\n",
       "184  Stara Zagora                Bulgaria     42.42      25.62        10.90\n",
       "190       Tallinn                 Estonia     59.43      24.73         4.82\n",
       "193         Tartu                 Estonia     58.38      26.71         4.36\n",
       "203        Vienna                 Austria     48.20      16.37         7.86\n",
       "205       Vilnius               Lithuania     54.68      25.32         5.38"
      ]
     },
     "execution_count": 50,
     "metadata": {},
     "output_type": "execute_result"
    }
   ],
   "source": [
    "cities[cities.country.str.contains('ia')]"
   ]
  },
  {
   "cell_type": "markdown",
   "metadata": {},
   "source": [
    "# <font color=\"red\">Exercise</font>\n",
    "\n",
    "Select all teenagers female passengers in titanic dataset."
   ]
  },
  {
   "cell_type": "markdown",
   "metadata": {},
   "source": [
    "## 3.6  Sort Data in Pandas\n",
    "\n",
    "We can also sort data in pandas. For example let us  sort the dataframe's rows by latitude, in descending order."
   ]
  },
  {
   "cell_type": "code",
   "execution_count": 54,
   "metadata": {
    "collapsed": false
   },
   "outputs": [],
   "source": [
    "cities.sort_values(by='latitude', ascending=0)"
   ]
  },
  {
   "cell_type": "markdown",
   "metadata": {},
   "source": [
    "Sorting by country and then by  temperature descending"
   ]
  },
  {
   "cell_type": "code",
   "execution_count": 56,
   "metadata": {
    "collapsed": false
   },
   "outputs": [],
   "source": [
    "cities.sort_values(by=['country','temperature'],ascending=[True,False])"
   ]
  },
  {
   "cell_type": "markdown",
   "metadata": {},
   "source": [
    " **Putting it together**: Select City and longitude of all cities with latitude > 50 and temperature > 9, sorted by longitude"
   ]
  },
  {
   "cell_type": "code",
   "execution_count": 57,
   "metadata": {
    "collapsed": false
   },
   "outputs": [
    {
     "data": {
      "text/html": [
       "<div>\n",
       "<table border=\"1\" class=\"dataframe\">\n",
       "  <thead>\n",
       "    <tr style=\"text-align: right;\">\n",
       "      <th></th>\n",
       "      <th>city</th>\n",
       "      <th>longitude</th>\n",
       "    </tr>\n",
       "  </thead>\n",
       "  <tbody>\n",
       "    <tr>\n",
       "      <th>88</th>\n",
       "      <td>Galway</td>\n",
       "      <td>-9.05</td>\n",
       "    </tr>\n",
       "    <tr>\n",
       "      <th>67</th>\n",
       "      <td>Cork</td>\n",
       "      <td>-8.50</td>\n",
       "    </tr>\n",
       "    <tr>\n",
       "      <th>188</th>\n",
       "      <td>Swansea</td>\n",
       "      <td>-3.95</td>\n",
       "    </tr>\n",
       "    <tr>\n",
       "      <th>84</th>\n",
       "      <td>Exeter</td>\n",
       "      <td>-3.53</td>\n",
       "    </tr>\n",
       "    <tr>\n",
       "      <th>34</th>\n",
       "      <td>Blackpool</td>\n",
       "      <td>-3.05</td>\n",
       "    </tr>\n",
       "    <tr>\n",
       "      <th>40</th>\n",
       "      <td>Bournemouth</td>\n",
       "      <td>-1.90</td>\n",
       "    </tr>\n",
       "    <tr>\n",
       "      <th>58</th>\n",
       "      <td>Cambridge</td>\n",
       "      <td>0.12</td>\n",
       "    </tr>\n",
       "    <tr>\n",
       "      <th>123</th>\n",
       "      <td>Lille</td>\n",
       "      <td>3.08</td>\n",
       "    </tr>\n",
       "    <tr>\n",
       "      <th>49</th>\n",
       "      <td>Brugge</td>\n",
       "      <td>3.23</td>\n",
       "    </tr>\n",
       "  </tbody>\n",
       "</table>\n",
       "</div>"
      ],
      "text/plain": [
       "            city  longitude\n",
       "88        Galway      -9.05\n",
       "67          Cork      -8.50\n",
       "188      Swansea      -3.95\n",
       "84        Exeter      -3.53\n",
       "34     Blackpool      -3.05\n",
       "40   Bournemouth      -1.90\n",
       "58     Cambridge       0.12\n",
       "123        Lille       3.08\n",
       "49        Brugge       3.23"
      ]
     },
     "execution_count": 57,
     "metadata": {},
     "output_type": "execute_result"
    }
   ],
   "source": [
    "temp1 = cities[(cities.latitude > 50) & (cities.temperature > 9)]\n",
    "temp2 = temp1[['city','longitude']]\n",
    "temp2.sort_values(by='longitude')\n",
    "# Show combining first two, then combining all (use \\ for long lines)\n",
    "# Note similar functionality to SQL"
   ]
  },
  {
   "cell_type": "markdown",
   "metadata": {},
   "source": [
    "The above code is equivalent to:"
   ]
  },
  {
   "cell_type": "code",
   "execution_count": 58,
   "metadata": {
    "collapsed": false
   },
   "outputs": [
    {
     "data": {
      "text/html": [
       "<div>\n",
       "<table border=\"1\" class=\"dataframe\">\n",
       "  <thead>\n",
       "    <tr style=\"text-align: right;\">\n",
       "      <th></th>\n",
       "      <th>city</th>\n",
       "      <th>longitude</th>\n",
       "    </tr>\n",
       "  </thead>\n",
       "  <tbody>\n",
       "    <tr>\n",
       "      <th>88</th>\n",
       "      <td>Galway</td>\n",
       "      <td>-9.05</td>\n",
       "    </tr>\n",
       "    <tr>\n",
       "      <th>67</th>\n",
       "      <td>Cork</td>\n",
       "      <td>-8.50</td>\n",
       "    </tr>\n",
       "    <tr>\n",
       "      <th>188</th>\n",
       "      <td>Swansea</td>\n",
       "      <td>-3.95</td>\n",
       "    </tr>\n",
       "    <tr>\n",
       "      <th>84</th>\n",
       "      <td>Exeter</td>\n",
       "      <td>-3.53</td>\n",
       "    </tr>\n",
       "    <tr>\n",
       "      <th>34</th>\n",
       "      <td>Blackpool</td>\n",
       "      <td>-3.05</td>\n",
       "    </tr>\n",
       "    <tr>\n",
       "      <th>40</th>\n",
       "      <td>Bournemouth</td>\n",
       "      <td>-1.90</td>\n",
       "    </tr>\n",
       "    <tr>\n",
       "      <th>58</th>\n",
       "      <td>Cambridge</td>\n",
       "      <td>0.12</td>\n",
       "    </tr>\n",
       "    <tr>\n",
       "      <th>123</th>\n",
       "      <td>Lille</td>\n",
       "      <td>3.08</td>\n",
       "    </tr>\n",
       "    <tr>\n",
       "      <th>49</th>\n",
       "      <td>Brugge</td>\n",
       "      <td>3.23</td>\n",
       "    </tr>\n",
       "  </tbody>\n",
       "</table>\n",
       "</div>"
      ],
      "text/plain": [
       "            city  longitude\n",
       "88        Galway      -9.05\n",
       "67          Cork      -8.50\n",
       "188      Swansea      -3.95\n",
       "84        Exeter      -3.53\n",
       "34     Blackpool      -3.05\n",
       "40   Bournemouth      -1.90\n",
       "58     Cambridge       0.12\n",
       "123        Lille       3.08\n",
       "49        Brugge       3.23"
      ]
     },
     "execution_count": 58,
     "metadata": {},
     "output_type": "execute_result"
    }
   ],
   "source": [
    "cities[(cities.latitude > 50) & (cities.temperature > 9)][['city','longitude']].sort_values(by='longitude')"
   ]
  },
  {
   "cell_type": "markdown",
   "metadata": {},
   "source": [
    "# <font color=\"red\">Exercise</font>\n",
    "\n",
    "Use the titanic data to print the name, age and gender of all survived passengers less than 20 years old in class C sorted by their age (smallest to lagest)."
   ]
  },
  {
   "cell_type": "markdown",
   "metadata": {},
   "source": [
    "## 4. Descriptive Statistics  From Data\n",
    "\n",
    "Descriptive statistics can give you great insight into the shape of each attribute. The **describe()** function on the Pandas DataFrame lists 8 statistical properties of each attribute:\n",
    "\n",
    "* Count\n",
    "* Mean\n",
    "* Standard Devaition\n",
    "* Minimum Value\n",
    "* 25th Percentile\n",
    "* 50th Percentile (Median)\n",
    "* 75th Percentile\n",
    "* Maximum Value\n",
    "\n",
    "For example to obtain the statistics summary  for Cities data."
   ]
  },
  {
   "cell_type": "code",
   "execution_count": 64,
   "metadata": {
    "collapsed": false
   },
   "outputs": [
    {
     "data": {
      "text/html": [
       "<div>\n",
       "<table border=\"1\" class=\"dataframe\">\n",
       "  <thead>\n",
       "    <tr style=\"text-align: right;\">\n",
       "      <th></th>\n",
       "      <th>latitude</th>\n",
       "      <th>longitude</th>\n",
       "      <th>temperature</th>\n",
       "    </tr>\n",
       "  </thead>\n",
       "  <tbody>\n",
       "    <tr>\n",
       "      <th>count</th>\n",
       "      <td>213.000000</td>\n",
       "      <td>213.000000</td>\n",
       "      <td>213.000000</td>\n",
       "    </tr>\n",
       "    <tr>\n",
       "      <th>mean</th>\n",
       "      <td>47.499906</td>\n",
       "      <td>15.374319</td>\n",
       "      <td>9.497840</td>\n",
       "    </tr>\n",
       "    <tr>\n",
       "      <th>std</th>\n",
       "      <td>6.730961</td>\n",
       "      <td>13.068014</td>\n",
       "      <td>3.561231</td>\n",
       "    </tr>\n",
       "    <tr>\n",
       "      <th>min</th>\n",
       "      <td>36.130000</td>\n",
       "      <td>-9.140000</td>\n",
       "      <td>-2.200000</td>\n",
       "    </tr>\n",
       "    <tr>\n",
       "      <th>25%</th>\n",
       "      <td>42.220000</td>\n",
       "      <td>5.380000</td>\n",
       "      <td>7.190000</td>\n",
       "    </tr>\n",
       "    <tr>\n",
       "      <th>50%</th>\n",
       "      <td>47.580000</td>\n",
       "      <td>16.180000</td>\n",
       "      <td>8.880000</td>\n",
       "    </tr>\n",
       "    <tr>\n",
       "      <th>75%</th>\n",
       "      <td>52.050000</td>\n",
       "      <td>25.620000</td>\n",
       "      <td>11.190000</td>\n",
       "    </tr>\n",
       "    <tr>\n",
       "      <th>max</th>\n",
       "      <td>67.850000</td>\n",
       "      <td>41.930000</td>\n",
       "      <td>18.670000</td>\n",
       "    </tr>\n",
       "  </tbody>\n",
       "</table>\n",
       "</div>"
      ],
      "text/plain": [
       "         latitude   longitude  temperature\n",
       "count  213.000000  213.000000   213.000000\n",
       "mean    47.499906   15.374319     9.497840\n",
       "std      6.730961   13.068014     3.561231\n",
       "min     36.130000   -9.140000    -2.200000\n",
       "25%     42.220000    5.380000     7.190000\n",
       "50%     47.580000   16.180000     8.880000\n",
       "75%     52.050000   25.620000    11.190000\n",
       "max     67.850000   41.930000    18.670000"
      ]
     },
     "execution_count": 64,
     "metadata": {},
     "output_type": "execute_result"
    }
   ],
   "source": [
    "cities.describe()"
   ]
  },
  {
   "cell_type": "markdown",
   "metadata": {},
   "source": [
    "To obtain descriptive statistics of a particular column use:"
   ]
  },
  {
   "cell_type": "code",
   "execution_count": 67,
   "metadata": {
    "collapsed": false
   },
   "outputs": [
    {
     "data": {
      "text/plain": [
       "9.497840375586858"
      ]
     },
     "execution_count": 67,
     "metadata": {},
     "output_type": "execute_result"
    }
   ],
   "source": [
    "cities['temperature'].mean()"
   ]
  },
  {
   "cell_type": "markdown",
   "metadata": {},
   "source": [
    "However we often want to calculate summary statistics grouped by subsets or attributes within fields of our data. For example, we might want to calculate the average tempearture of all cities per countries. To accomplish this we  can use  **.groupby** method"
   ]
  },
  {
   "cell_type": "code",
   "execution_count": 69,
   "metadata": {
    "collapsed": false
   },
   "outputs": [],
   "source": [
    "cities.groupby('country').describe()"
   ]
  },
  {
   "cell_type": "markdown",
   "metadata": {},
   "source": [
    "Let find average temperature of cities in each country"
   ]
  },
  {
   "cell_type": "code",
   "execution_count": 71,
   "metadata": {
    "collapsed": false
   },
   "outputs": [
    {
     "data": {
      "text/html": [
       "<div>\n",
       "<table border=\"1\" class=\"dataframe\">\n",
       "  <thead>\n",
       "    <tr style=\"text-align: right;\">\n",
       "      <th></th>\n",
       "      <th>temperature</th>\n",
       "    </tr>\n",
       "    <tr>\n",
       "      <th>country</th>\n",
       "      <th></th>\n",
       "    </tr>\n",
       "  </thead>\n",
       "  <tbody>\n",
       "    <tr>\n",
       "      <th>Albania</th>\n",
       "      <td>15.180000</td>\n",
       "    </tr>\n",
       "    <tr>\n",
       "      <th>Andorra</th>\n",
       "      <td>9.600000</td>\n",
       "    </tr>\n",
       "    <tr>\n",
       "      <th>Austria</th>\n",
       "      <td>6.144000</td>\n",
       "    </tr>\n",
       "    <tr>\n",
       "      <th>Belarus</th>\n",
       "      <td>5.946667</td>\n",
       "    </tr>\n",
       "    <tr>\n",
       "      <th>Belgium</th>\n",
       "      <td>9.650000</td>\n",
       "    </tr>\n",
       "    <tr>\n",
       "      <th>Bosnia and Herzegovina</th>\n",
       "      <td>9.600000</td>\n",
       "    </tr>\n",
       "    <tr>\n",
       "      <th>Bulgaria</th>\n",
       "      <td>10.440000</td>\n",
       "    </tr>\n",
       "    <tr>\n",
       "      <th>Croatia</th>\n",
       "      <td>10.865000</td>\n",
       "    </tr>\n",
       "    <tr>\n",
       "      <th>Czech Republic</th>\n",
       "      <td>7.856667</td>\n",
       "    </tr>\n",
       "    <tr>\n",
       "      <th>Denmark</th>\n",
       "      <td>7.625000</td>\n",
       "    </tr>\n",
       "    <tr>\n",
       "      <th>Estonia</th>\n",
       "      <td>4.590000</td>\n",
       "    </tr>\n",
       "    <tr>\n",
       "      <th>Finland</th>\n",
       "      <td>3.487500</td>\n",
       "    </tr>\n",
       "    <tr>\n",
       "      <th>France</th>\n",
       "      <td>10.151111</td>\n",
       "    </tr>\n",
       "    <tr>\n",
       "      <th>Germany</th>\n",
       "      <td>7.869286</td>\n",
       "    </tr>\n",
       "    <tr>\n",
       "      <th>Greece</th>\n",
       "      <td>16.902500</td>\n",
       "    </tr>\n",
       "    <tr>\n",
       "      <th>Hungary</th>\n",
       "      <td>9.602500</td>\n",
       "    </tr>\n",
       "    <tr>\n",
       "      <th>Ireland</th>\n",
       "      <td>9.300000</td>\n",
       "    </tr>\n",
       "    <tr>\n",
       "      <th>Italy</th>\n",
       "      <td>13.474667</td>\n",
       "    </tr>\n",
       "    <tr>\n",
       "      <th>Latvia</th>\n",
       "      <td>5.270000</td>\n",
       "    </tr>\n",
       "    <tr>\n",
       "      <th>Lithuania</th>\n",
       "      <td>6.143333</td>\n",
       "    </tr>\n",
       "    <tr>\n",
       "      <th>Macedonia</th>\n",
       "      <td>9.360000</td>\n",
       "    </tr>\n",
       "    <tr>\n",
       "      <th>Moldova</th>\n",
       "      <td>8.415000</td>\n",
       "    </tr>\n",
       "    <tr>\n",
       "      <th>Montenegro</th>\n",
       "      <td>9.990000</td>\n",
       "    </tr>\n",
       "    <tr>\n",
       "      <th>Netherlands</th>\n",
       "      <td>8.756667</td>\n",
       "    </tr>\n",
       "    <tr>\n",
       "      <th>Norway</th>\n",
       "      <td>3.726000</td>\n",
       "    </tr>\n",
       "    <tr>\n",
       "      <th>Poland</th>\n",
       "      <td>7.250000</td>\n",
       "    </tr>\n",
       "    <tr>\n",
       "      <th>Portugal</th>\n",
       "      <td>14.470000</td>\n",
       "    </tr>\n",
       "    <tr>\n",
       "      <th>Romania</th>\n",
       "      <td>9.224444</td>\n",
       "    </tr>\n",
       "    <tr>\n",
       "      <th>Serbia</th>\n",
       "      <td>9.850000</td>\n",
       "    </tr>\n",
       "    <tr>\n",
       "      <th>Slovakia</th>\n",
       "      <td>8.480000</td>\n",
       "    </tr>\n",
       "    <tr>\n",
       "      <th>Slovenia</th>\n",
       "      <td>9.270000</td>\n",
       "    </tr>\n",
       "    <tr>\n",
       "      <th>Spain</th>\n",
       "      <td>14.238333</td>\n",
       "    </tr>\n",
       "    <tr>\n",
       "      <th>Sweden</th>\n",
       "      <td>3.586667</td>\n",
       "    </tr>\n",
       "    <tr>\n",
       "      <th>Switzerland</th>\n",
       "      <td>7.253333</td>\n",
       "    </tr>\n",
       "    <tr>\n",
       "      <th>Turkey</th>\n",
       "      <td>11.726667</td>\n",
       "    </tr>\n",
       "    <tr>\n",
       "      <th>Ukraine</th>\n",
       "      <td>7.420000</td>\n",
       "    </tr>\n",
       "    <tr>\n",
       "      <th>United Kingdom</th>\n",
       "      <td>8.650000</td>\n",
       "    </tr>\n",
       "  </tbody>\n",
       "</table>\n",
       "</div>"
      ],
      "text/plain": [
       "                        temperature\n",
       "country                            \n",
       "Albania                   15.180000\n",
       "Andorra                    9.600000\n",
       "Austria                    6.144000\n",
       "Belarus                    5.946667\n",
       "Belgium                    9.650000\n",
       "Bosnia and Herzegovina     9.600000\n",
       "Bulgaria                  10.440000\n",
       "Croatia                   10.865000\n",
       "Czech Republic             7.856667\n",
       "Denmark                    7.625000\n",
       "Estonia                    4.590000\n",
       "Finland                    3.487500\n",
       "France                    10.151111\n",
       "Germany                    7.869286\n",
       "Greece                    16.902500\n",
       "Hungary                    9.602500\n",
       "Ireland                    9.300000\n",
       "Italy                     13.474667\n",
       "Latvia                     5.270000\n",
       "Lithuania                  6.143333\n",
       "Macedonia                  9.360000\n",
       "Moldova                    8.415000\n",
       "Montenegro                 9.990000\n",
       "Netherlands                8.756667\n",
       "Norway                     3.726000\n",
       "Poland                     7.250000\n",
       "Portugal                  14.470000\n",
       "Romania                    9.224444\n",
       "Serbia                     9.850000\n",
       "Slovakia                   8.480000\n",
       "Slovenia                   9.270000\n",
       "Spain                     14.238333\n",
       "Sweden                     3.586667\n",
       "Switzerland                7.253333\n",
       "Turkey                    11.726667\n",
       "Ukraine                    7.420000\n",
       "United Kingdom             8.650000"
      ]
     },
     "execution_count": 71,
     "metadata": {},
     "output_type": "execute_result"
    }
   ],
   "source": [
    "cities.groupby('country')[['temperature']].mean()"
   ]
  },
  {
   "cell_type": "code",
   "execution_count": 74,
   "metadata": {
    "collapsed": false
   },
   "outputs": [
    {
     "data": {
      "text/plain": [
       "10.151111111111112"
      ]
     },
     "execution_count": 74,
     "metadata": {},
     "output_type": "execute_result"
    }
   ],
   "source": [
    "# Average temperature of cities in France.\n",
    "french = cities[cities.country == 'France']\n",
    "french['temperature'].mean()"
   ]
  },
  {
   "cell_type": "markdown",
   "metadata": {},
   "source": [
    "# <font color=\"red\">Exercise</font> "
   ]
  },
  {
   "cell_type": "code",
   "execution_count": null,
   "metadata": {
    "collapsed": true
   },
   "outputs": [],
   "source": [
    "# Read the Players  data into dataframes\n",
    "# Find the average highest point of countries in the EU and not in the EU,\n",
    "# then the average highest point of countries with and without coastline\n",
    "\n",
    "#Note: When there's more than one \"query\" you only see the last result.\n",
    "# Try using print\n",
    "# Hint: You can use groupby!"
   ]
  },
  {
   "cell_type": "markdown",
   "metadata": {},
   "source": [
    "# 5 Combining DataFrames\n",
    "\n",
    "In most cases the data that we want to analyse come in multiple files. We thus need to combine these files into a single DataFrame. The pandas package provides various methods for combining DataFrames including **merge** and **concat**. To do this we first need to load the required data files into pandas DataFrames."
   ]
  },
  {
   "cell_type": "code",
   "execution_count": 78,
   "metadata": {
    "collapsed": true
   },
   "outputs": [],
   "source": [
    "countries = pd.read_csv('Data/Countries.csv')"
   ]
  },
  {
   "cell_type": "code",
   "execution_count": 79,
   "metadata": {
    "collapsed": false
   },
   "outputs": [
    {
     "data": {
      "text/html": [
       "<div>\n",
       "<table border=\"1\" class=\"dataframe\">\n",
       "  <thead>\n",
       "    <tr style=\"text-align: right;\">\n",
       "      <th></th>\n",
       "      <th>city</th>\n",
       "      <th>country</th>\n",
       "      <th>latitude</th>\n",
       "      <th>longitude</th>\n",
       "      <th>temperature</th>\n",
       "      <th>coastline</th>\n",
       "      <th>highest</th>\n",
       "      <th>EU</th>\n",
       "    </tr>\n",
       "  </thead>\n",
       "  <tbody>\n",
       "    <tr>\n",
       "      <th>0</th>\n",
       "      <td>Aalborg</td>\n",
       "      <td>Denmark</td>\n",
       "      <td>57.03</td>\n",
       "      <td>9.92</td>\n",
       "      <td>7.52</td>\n",
       "      <td>yes</td>\n",
       "      <td>171</td>\n",
       "      <td>yes</td>\n",
       "    </tr>\n",
       "    <tr>\n",
       "      <th>1</th>\n",
       "      <td>Odense</td>\n",
       "      <td>Denmark</td>\n",
       "      <td>55.40</td>\n",
       "      <td>10.38</td>\n",
       "      <td>7.73</td>\n",
       "      <td>yes</td>\n",
       "      <td>171</td>\n",
       "      <td>yes</td>\n",
       "    </tr>\n",
       "    <tr>\n",
       "      <th>2</th>\n",
       "      <td>Aberdeen</td>\n",
       "      <td>United Kingdom</td>\n",
       "      <td>57.17</td>\n",
       "      <td>-2.08</td>\n",
       "      <td>8.10</td>\n",
       "      <td>yes</td>\n",
       "      <td>1344</td>\n",
       "      <td>yes</td>\n",
       "    </tr>\n",
       "    <tr>\n",
       "      <th>3</th>\n",
       "      <td>Belfast</td>\n",
       "      <td>United Kingdom</td>\n",
       "      <td>54.60</td>\n",
       "      <td>-5.96</td>\n",
       "      <td>8.48</td>\n",
       "      <td>yes</td>\n",
       "      <td>1344</td>\n",
       "      <td>yes</td>\n",
       "    </tr>\n",
       "    <tr>\n",
       "      <th>4</th>\n",
       "      <td>Birmingham</td>\n",
       "      <td>United Kingdom</td>\n",
       "      <td>52.47</td>\n",
       "      <td>-1.92</td>\n",
       "      <td>8.81</td>\n",
       "      <td>yes</td>\n",
       "      <td>1344</td>\n",
       "      <td>yes</td>\n",
       "    </tr>\n",
       "  </tbody>\n",
       "</table>\n",
       "</div>"
      ],
      "text/plain": [
       "         city         country  latitude  longitude  temperature coastline  \\\n",
       "0     Aalborg         Denmark     57.03       9.92         7.52       yes   \n",
       "1      Odense         Denmark     55.40      10.38         7.73       yes   \n",
       "2    Aberdeen  United Kingdom     57.17      -2.08         8.10       yes   \n",
       "3     Belfast  United Kingdom     54.60      -5.96         8.48       yes   \n",
       "4  Birmingham  United Kingdom     52.47      -1.92         8.81       yes   \n",
       "\n",
       "   highest   EU  \n",
       "0      171  yes  \n",
       "1      171  yes  \n",
       "2     1344  yes  \n",
       "3     1344  yes  \n",
       "4     1344  yes  "
      ]
     },
     "execution_count": 79,
     "metadata": {},
     "output_type": "execute_result"
    }
   ],
   "source": [
    "# merge countries and cities dataset\n",
    "citiesext = cities.merge(countries, on='country')\n",
    "citiesext.head()"
   ]
  },
  {
   "cell_type": "code",
   "execution_count": 80,
   "metadata": {
    "collapsed": false
   },
   "outputs": [
    {
     "data": {
      "text/html": [
       "<div>\n",
       "<table border=\"1\" class=\"dataframe\">\n",
       "  <thead>\n",
       "    <tr style=\"text-align: right;\">\n",
       "      <th></th>\n",
       "      <th>country</th>\n",
       "      <th>coastline</th>\n",
       "      <th>highest</th>\n",
       "      <th>EU</th>\n",
       "      <th>city</th>\n",
       "      <th>latitude</th>\n",
       "      <th>longitude</th>\n",
       "      <th>temperature</th>\n",
       "    </tr>\n",
       "  </thead>\n",
       "  <tbody>\n",
       "    <tr>\n",
       "      <th>0</th>\n",
       "      <td>Albania</td>\n",
       "      <td>yes</td>\n",
       "      <td>2764</td>\n",
       "      <td>no</td>\n",
       "      <td>Elbasan</td>\n",
       "      <td>41.12</td>\n",
       "      <td>20.08</td>\n",
       "      <td>15.18</td>\n",
       "    </tr>\n",
       "    <tr>\n",
       "      <th>1</th>\n",
       "      <td>Andorra</td>\n",
       "      <td>no</td>\n",
       "      <td>2942</td>\n",
       "      <td>no</td>\n",
       "      <td>Andorra</td>\n",
       "      <td>42.50</td>\n",
       "      <td>1.52</td>\n",
       "      <td>9.60</td>\n",
       "    </tr>\n",
       "    <tr>\n",
       "      <th>2</th>\n",
       "      <td>Austria</td>\n",
       "      <td>no</td>\n",
       "      <td>3798</td>\n",
       "      <td>yes</td>\n",
       "      <td>Graz</td>\n",
       "      <td>47.08</td>\n",
       "      <td>15.41</td>\n",
       "      <td>6.91</td>\n",
       "    </tr>\n",
       "    <tr>\n",
       "      <th>3</th>\n",
       "      <td>Austria</td>\n",
       "      <td>no</td>\n",
       "      <td>3798</td>\n",
       "      <td>yes</td>\n",
       "      <td>Innsbruck</td>\n",
       "      <td>47.28</td>\n",
       "      <td>11.41</td>\n",
       "      <td>4.54</td>\n",
       "    </tr>\n",
       "    <tr>\n",
       "      <th>4</th>\n",
       "      <td>Austria</td>\n",
       "      <td>no</td>\n",
       "      <td>3798</td>\n",
       "      <td>yes</td>\n",
       "      <td>Linz</td>\n",
       "      <td>48.32</td>\n",
       "      <td>14.29</td>\n",
       "      <td>6.79</td>\n",
       "    </tr>\n",
       "  </tbody>\n",
       "</table>\n",
       "</div>"
      ],
      "text/plain": [
       "   country coastline  highest   EU       city  latitude  longitude  \\\n",
       "0  Albania       yes     2764   no    Elbasan     41.12      20.08   \n",
       "1  Andorra        no     2942   no    Andorra     42.50       1.52   \n",
       "2  Austria        no     3798  yes       Graz     47.08      15.41   \n",
       "3  Austria        no     3798  yes  Innsbruck     47.28      11.41   \n",
       "4  Austria        no     3798  yes       Linz     48.32      14.29   \n",
       "\n",
       "   temperature  \n",
       "0        15.18  \n",
       "1         9.60  \n",
       "2         6.91  \n",
       "3         4.54  \n",
       "4         6.79  "
      ]
     },
     "execution_count": 80,
     "metadata": {},
     "output_type": "execute_result"
    }
   ],
   "source": [
    "# Joining is symmetric\n",
    "countriesext = countries.merge(cities, on='country')\n",
    "countriesext.head()"
   ]
  },
  {
   "cell_type": "markdown",
   "metadata": {},
   "source": [
    "### Writing Out Data to CSV\n",
    "\n",
    "We can use the **to_csv** command to do export a DataFrame in CSV format. We can save it to a different folder by adding the foldername and a slash to the file **.to_csv('foldername/filename.csv')**.\n"
   ]
  },
  {
   "cell_type": "code",
   "execution_count": 83,
   "metadata": {
    "collapsed": false
   },
   "outputs": [],
   "source": [
    "#Save the citiesext to harddisk\n",
    "citiesext.to_csv('Data/citiesext.csv')"
   ]
  },
  {
   "cell_type": "markdown",
   "metadata": {},
   "source": [
    "# 6 Plotting and Visualization\n",
    "\n",
    "There are a handful of third-party Python packages that are suitable for creating scientific plots and visualizations. These include packages like:\n",
    "\n",
    "1. [Matplotlib](http://matplotlib.org/)\n",
    "2. [Seaborn](http://seaborn.pydata.org/)\n",
    "3. [Bokeh](http://bokeh.pydata.org/en/latest/)\n",
    "\n",
    "However, Pandas have a **.plot** namespace, with various chart types available **(line, hist, scatter, etc.)**.\n",
    "\n",
    "We will focus excelusively on matplotlib and the high-level plotting availabel within pandas. "
   ]
  },
  {
   "cell_type": "markdown",
   "metadata": {},
   "source": [
    "## 6.1 Pandas' builtin-plotting"
   ]
  },
  {
   "cell_type": "markdown",
   "metadata": {},
   "source": [
    "Plot Formatting"
   ]
  },
  {
   "cell_type": "code",
   "execution_count": 97,
   "metadata": {
    "collapsed": false
   },
   "outputs": [],
   "source": [
    "from pylab import rcParams\n",
    "from math import sqrt\n",
    "%matplotlib inline\n",
    "\n",
    "fig_width = 6.9\n",
    "golden_mean = (sqrt(5)-1.0)/2.0    # Aesthetic ratio\n",
    "fig_height = fig_width*golden_mean # height in inches\n",
    "\n",
    "params = {\n",
    "   'axes.labelsize': 8,\n",
    "   'text.latex.preamble': ['\\\\usepackage{gensymb}'],\n",
    "   'font.size': 10,\n",
    "    'axes.labelsize': 10, # fontsize for x and y labels (was 10)\n",
    "    'axes.titlesize': 12,\n",
    "   'legend.fontsize': 8,\n",
    "   'xtick.labelsize': 10,\n",
    "   'ytick.labelsize': 10,\n",
    "   'text.usetex': True,\n",
    "   'figure.figsize': [fig_width,fig_height],\n",
    "    'font.family': 'serif'\n",
    "   }\n",
    "rcParams.update(params)"
   ]
  },
  {
   "cell_type": "code",
   "execution_count": 84,
   "metadata": {
    "collapsed": false
   },
   "outputs": [],
   "source": [
    "# Load citiesext dataset\n",
    "citiesext = pd.read_csv('Data/citiesext.csv')"
   ]
  },
  {
   "cell_type": "markdown",
   "metadata": {},
   "source": [
    "#### Line plot"
   ]
  },
  {
   "cell_type": "code",
   "execution_count": 92,
   "metadata": {
    "collapsed": false
   },
   "outputs": [
    {
     "data": {
      "text/plain": [
       "<matplotlib.axes._subplots.AxesSubplot at 0x7f0052d744e0>"
      ]
     },
     "execution_count": 92,
     "metadata": {},
     "output_type": "execute_result"
    },
    {
     "data": {
      "image/png": "[encoded data removed]",
      "text/plain": [
       "<matplotlib.figure.Figure at 0x7f0052d86320>"
      ]
     },
     "metadata": {},
     "output_type": "display_data"
    }
   ],
   "source": [
    "citiesext.latitude.plot()"
   ]
  },
  {
   "cell_type": "markdown",
   "metadata": {},
   "source": [
    "#### Plot Scatter plot between latitude and temperature"
   ]
  },
  {
   "cell_type": "code",
   "execution_count": 98,
   "metadata": {
    "collapsed": false
   },
   "outputs": [
    {
     "data": {
      "text/plain": [
       "<matplotlib.axes._subplots.AxesSubplot at 0x7f0052b279b0>"
      ]
     },
     "execution_count": 98,
     "metadata": {},
     "output_type": "execute_result"
    },
    {
     "data": {
      "image/png": "[encoded data removed]",
      "text/plain": [
       "<matplotlib.figure.Figure at 0x7f00528caf28>"
      ]
     },
     "metadata": {},
     "output_type": "display_data"
    }
   ],
   "source": [
    "citiesext.plot.scatter(x='temperature', y='latitude', c='#E88C0C', s=55)"
   ]
  },
  {
   "cell_type": "markdown",
   "metadata": {},
   "source": [
    "#### Histograms¶"
   ]
  },
  {
   "cell_type": "code",
   "execution_count": 101,
   "metadata": {
    "collapsed": false
   },
   "outputs": [
    {
     "data": {
      "text/plain": [
       "<matplotlib.axes._subplots.AxesSubplot at 0x7f005273d4a8>"
      ]
     },
     "execution_count": 101,
     "metadata": {},
     "output_type": "execute_result"
    },
    {
     "data": {
      "image/png": "[encoded data removed]",
      "text/plain": [
       "<matplotlib.figure.Figure at 0x7f00526c3cc0>"
      ]
     },
     "metadata": {},
     "output_type": "display_data"
    }
   ],
   "source": [
    "citiesext.temperature.hist(grid=False )"
   ]
  },
  {
   "cell_type": "markdown",
   "metadata": {},
   "source": [
    "There are algorithms for determining an \"optimal\" number of bins, each of which varies somehow with the number of observations in the data series."
   ]
  },
  {
   "cell_type": "markdown",
   "metadata": {},
   "source": [
    "Here, we had to normalize the histogram (normed=True), since the kernel density is normalized by definition (it is a probability distribution)."
   ]
  },
  {
   "cell_type": "markdown",
   "metadata": {},
   "source": [
    "### Boxplots\n",
    "A different way of visualizing the distribution of data is the boxplot, which is a display of common quantiles; these are typically the quartiles and the lower and upper 5 percent values."
   ]
  },
  {
   "cell_type": "code",
   "execution_count": 106,
   "metadata": {
    "collapsed": false
   },
   "outputs": [
    {
     "data": {
      "text/plain": [
       "<matplotlib.axes._subplots.AxesSubplot at 0x7f004bda7a90>"
      ]
     },
     "execution_count": 106,
     "metadata": {},
     "output_type": "execute_result"
    },
    {
     "data": {
      "image/png": "[encoded data removed]",
      "text/plain": [
       "<matplotlib.figure.Figure at 0x7f004bdbd828>"
      ]
     },
     "metadata": {},
     "output_type": "display_data"
    }
   ],
   "source": [
    "citiesext.boxplot(column='temperature', by='EU', grid=False)"
   ]
  },
  {
   "cell_type": "markdown",
   "metadata": {},
   "source": [
    "You can think of the box plot as viewing the distribution from above. The white circles are \"outlier\" points that occur outside the extreme quantiles."
   ]
  }
 ],
 "metadata": {
  "kernelspec": {
   "display_name": "Python 3",
   "language": "python",
   "name": "python3"
  },
  "language_info": {
   "codemirror_mode": {
    "name": "ipython",
    "version": 3
   },
   "file_extension": ".py",
   "mimetype": "text/x-python",
   "name": "python",
   "nbconvert_exporter": "python",
   "pygments_lexer": "ipython3",
   "version": "3.6.0"
  }
 },
 "nbformat": 4,
 "nbformat_minor": 0
}
